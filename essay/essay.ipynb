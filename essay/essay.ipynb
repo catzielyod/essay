{
 "cells": [
  {
   "cell_type": "markdown",
   "metadata": {
    "collapsed": true,
    "pycharm": {
     "is_executing": false,
     "name": "#%% md\n"
    }
   },
   "source": [
    "## 1'python 列表元素int和float相互转换"
   ]
  },
  {
   "cell_type": "code",
   "execution_count": null,
   "outputs": [],
   "source": [
    "a=[[1,2],[3,4]]\n",
    "'先转换为array'\n",
    "import numpy as np\n",
    "b=np.array([a],dtype='float32')\n",
    "print(b)"
   ],
   "metadata": {
    "collapsed": false,
    "pycharm": {
     "name": "#%%\n"
    }
   }
  },
  {
   "cell_type": "markdown",
   "source": [
    "## 2'特征匹配中 kp=np.float32([kp.pt for kp in kp])"
   ],
   "metadata": {
    "collapsed": false,
    "pycharm": {
     "name": "#%% md\n",
     "is_executing": false
    }
   }
  },
  {
   "cell_type": "markdown",
   "source": [
    "## 3'闭包\n",
    "函数内的属性都有生命周期，都是在函数执行期间\n",
    "\n",
    "函数内部对外部函数作用域里面变量的引用"
   ],
   "metadata": {
    "collapsed": false,
    "pycharm": {
     "name": "#%% md\n",
     "is_executing": false
    }
   }
  },
  {
   "cell_type": "code",
   "execution_count": 12,
   "outputs": [
    {
     "name": "stdout",
     "text": [
      "4\n",
      "None\n"
     ],
     "output_type": "stream"
    }
   ],
   "source": [
    "def func():\n",
    "    a=1\n",
    "    def func1(num):\n",
    "        print(num+a)\n",
    "    return func1\n",
    "var=func()\n",
    "print(var(3))\n",
    "\n"
   ],
   "metadata": {
    "collapsed": false,
    "pycharm": {
     "name": "#%%\n",
     "is_executing": false
    }
   }
  },
  {
   "cell_type": "markdown",
   "source": [
    "## 4'装饰器\n",
    "不影响原有函数的功能，而且还能添加新功能"
   ],
   "metadata": {
    "collapsed": false,
    "pycharm": {
     "name": "#%% md\n",
     "is_executing": false
    }
   }
  },
  {
   "cell_type": "code",
   "execution_count": 16,
   "outputs": [
    {
     "name": "stdout",
     "text": [
      "1\n",
      "2\n"
     ],
     "output_type": "stream"
    },
    {
     "data": {
      "text/plain": "'被装饰函数带参数，只需要在最内部函数传入参数即可'"
     },
     "metadata": {},
     "output_type": "execute_result",
     "execution_count": 16
    }
   ],
   "source": [
    "def func1(func):\n",
    "    def func2():\n",
    "        print(1)\n",
    "        return func()\n",
    "    return func2\n",
    "\n",
    "@func1\n",
    "def myfun():\n",
    "    print(2)\n",
    "myfun()\n",
    "\n",
    "'装饰器函数带参数：外多加一层'\n",
    "'被装饰函数带参数，只需要在最内部函数传入参数即可'"
   ],
   "metadata": {
    "collapsed": false,
    "pycharm": {
     "name": "#%%\n",
     "is_executing": false
    }
   }
  },
  {
   "cell_type": "markdown",
   "source": [
    "## 5'opencv中的轮廓排序\n",
    " 假设已经得到所需轮廓conts(列表)\n",
    "\n",
    "- 首先得到所有轮廓的外接矩形\n",
    "bound=[cv2.boundingRect(i) for i in conts]\n",
    "返回的bound是一个序列,其中共有m个元素（m个轮廓），每一个轮廓是一个元组（x,y,w,h）\n",
    "\n",
    "- 之后利用zip函数进行排序\n",
    "\n",
    "'zipp=zip(conts,bound)' \n",
    "'sortt=sortes(zip,key=lambda x:x[1][1],reverse=False)' \n",
    "\n",
    "'其中x[1]=(x,y,w,h),x[1][1]=y,False表示升序模式，即对轮廓按照y洲从小到大进行排列' \n",
    "\n",
    "\n",
    "\n",
    "- 最后进行解码，返回列表\n",
    "'(conts,bound)=zip(*sortt)'"
   ],
   "metadata": {
    "collapsed": false,
    "pycharm": {
     "name": "#%% md\n",
     "is_executing": false
    }
   }
  },
  {
   "cell_type": "markdown",
   "source": [
    "## 6'新建py文件遇到无法import库\n",
    "\n",
    "\n",
    "file--> setting--> project:xx--> project interpreter 设定项目解释器\n",
    "\n",
    "edit configurations--> python interpreter'\n",
    "\n"
   ],
   "metadata": {
    "collapsed": false,
    "pycharm": {
     "name": "#%% md\n",
     "is_executing": false
    }
   }
  },
  {
   "cell_type": "markdown",
   "source": [
    "## 7'list没有shape可以转化为np。array（）之后可以shape\n",
    "\n"
   ],
   "metadata": {
    "collapsed": false,
    "pycharm": {
     "name": "#%% md\n",
     "is_executing": false
    }
   }
  },
  {
   "cell_type": "markdown",
   "source": [
    "## 8'tensorflow 问题\n",
    "\n",
    "- cpu直接pip install tensorflow即可\n",
    "- gpu需要同时安装CUDA和CUDAA，注意版本匹配问题\n",
    "- 若出现Successfully opened dynamic library cudart64_101.dll等提示，可能是由于版本不匹配导致的。\n",
    "或者在导入库之前，先运行\n",
    "\n",
    "import os\n",
    "\n",
    "os.environ['TF_CPP_MIN_LOG_LEVEL']='2'即可\n",
    "\n"
   ],
   "metadata": {
    "collapsed": false,
    "pycharm": {
     "name": "#%% md\n",
     "is_executing": false
    }
   }
  },
  {
   "cell_type": "code",
   "execution_count": 11,
   "outputs": [],
   "source": [],
   "metadata": {
    "collapsed": false,
    "pycharm": {
     "name": "#%%\n",
     "is_executing": false
    }
   }
  },
  {
   "cell_type": "code",
   "execution_count": 10,
   "outputs": [],
   "source": [],
   "metadata": {
    "collapsed": false,
    "pycharm": {
     "name": "#%%\n",
     "is_executing": false
    }
   }
  },
  {
   "cell_type": "code",
   "execution_count": 10,
   "outputs": [],
   "source": [],
   "metadata": {
    "collapsed": false,
    "pycharm": {
     "name": "#%%\n",
     "is_executing": false
    }
   }
  },
  {
   "cell_type": "code",
   "execution_count": 10,
   "outputs": [],
   "source": [],
   "metadata": {
    "collapsed": false,
    "pycharm": {
     "name": "#%%\n",
     "is_executing": false
    }
   }
  },
  {
   "cell_type": "code",
   "execution_count": null,
   "outputs": [],
   "source": [
    "\n"
   ],
   "metadata": {
    "collapsed": false,
    "pycharm": {
     "name": "#%%\n"
    }
   }
  }
 ],
 "metadata": {
  "kernelspec": {
   "display_name": "Python 3",
   "language": "python",
   "name": "python3"
  },
  "language_info": {
   "codemirror_mode": {
    "name": "ipython",
    "version": 2
   },
   "file_extension": ".py",
   "mimetype": "text/x-python",
   "name": "python",
   "nbconvert_exporter": "python",
   "pygments_lexer": "ipython2",
   "version": "2.7.6"
  },
  "pycharm": {
   "stem_cell": {
    "cell_type": "raw",
    "source": [],
    "metadata": {
     "collapsed": false
    }
   }
  }
 },
 "nbformat": 4,
 "nbformat_minor": 0
}